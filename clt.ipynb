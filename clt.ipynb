{
 "cells": [
  {
   "cell_type": "markdown",
   "metadata": {},
   "source": [
    "## 1. Zentrale Grenzwertsätze für deterministische dynamische Systeme "
   ]
  },
  {
   "cell_type": "markdown",
   "metadata": {},
   "source": [
    "Ziel: Theorie und numerische Experimente zum Zentralen Grenzwertsatz für deterministische dynamische Systeme. (Evtl. als proof of concept für weitere derartige Notebooks: Ergodensätze, Mischungseigenschaften, Beispiele für dynamische Systeme,...) "
   ]
  },
  {
   "cell_type": "code",
   "execution_count": 1,
   "metadata": {},
   "outputs": [],
   "source": [
    "#TODO"
   ]
  },
  {
   "cell_type": "markdown",
   "metadata": {},
   "source": [
    "## 2. Donsker-type Theorem"
   ]
  },
  {
   "cell_type": "markdown",
   "metadata": {},
   "source": [
    "Weiterführender Aspekt: Donsker-type Theorem im Setting von deterministischen dynamischen Systemen. (Note to myself: Evtl. ähnliche Simulationen wie auf Blatt2, Stochastische Analysis mit rauszoomen etc: http://louistiao.me/posts/notebooks/embedding-matplotlib-animations-in-jupyter-notebooks/). "
   ]
  },
  {
   "cell_type": "code",
   "execution_count": null,
   "metadata": {},
   "outputs": [],
   "source": []
  },
  {
   "cell_type": "code",
   "execution_count": null,
   "metadata": {},
   "outputs": [],
   "source": [
    "#TODO"
   ]
  }
 ],
 "metadata": {
  "kernelspec": {
   "display_name": "Python 3",
   "language": "python",
   "name": "python3"
  },
  "language_info": {
   "codemirror_mode": {
    "name": "ipython",
    "version": 3
   },
   "file_extension": ".py",
   "mimetype": "text/x-python",
   "name": "python",
   "nbconvert_exporter": "python",
   "pygments_lexer": "ipython3",
   "version": "3.8.5"
  }
 },
 "nbformat": 4,
 "nbformat_minor": 4
}
