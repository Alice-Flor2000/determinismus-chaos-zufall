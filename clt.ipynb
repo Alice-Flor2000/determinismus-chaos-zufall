{
 "cells": [
  {
   "cell_type": "markdown",
   "metadata": {},
   "source": [
    "# 1. Zentrale Grenzwertsätze für deterministische dynamische Systeme "
   ]
  },
  {
   "cell_type": "markdown",
   "metadata": {},
   "source": [
    "Ziel: Theorie und numerische Experimente zum Zentralen Grenzwertsatz für deterministische dynamische Systeme. (Evtl. als proof of concept für weitere derartige Notebooks: Ergodensätze, Mischungseigenschaften, Beispiele für dynamische Systeme,...) \n",
    "\n",
    "Der hier verwendete Code basiert auf der Arbeit von Sebastian Albrecht und Daniel Fischer. Die theoretische Grundlage ist https://perso.univ-rennes1.fr/sebastien.gouezel/articles/lausanne_gouezel.pdf. "
   ]
  },
  {
   "cell_type": "markdown",
   "metadata": {},
   "source": [
    "## 1.1 Grundlagen\n",
    "\n",
    "Wir starten damit, die notwendigen Bibliotheken zu importieren."
   ]
  },
  {
   "cell_type": "code",
   "execution_count": 1,
   "metadata": {},
   "outputs": [],
   "source": [
    " %matplotlib inline"
   ]
  },
  {
   "cell_type": "code",
   "execution_count": 2,
   "metadata": {},
   "outputs": [],
   "source": [
    "import numpy as np\n",
    "import matplotlib.pyplot as plt\n",
    "from matplotlib import animation\n",
    "from matplotlib import rcParams\n",
    "from IPython.display import HTML\n",
    "\n",
    "# To fix some problems: \n",
    "rcParams['animation.writer'] = 'avconv'"
   ]
  },
  {
   "cell_type": "markdown",
   "metadata": {},
   "source": [
    "Nun wollen wir ein paar einfache Beispiel von dynamischen Systemen definieren und zunächst einmal die Graphen der Transformationen plotten, um ein Gefühl zu entwickeln. "
   ]
  },
  {
   "cell_type": "code",
   "execution_count": 3,
   "metadata": {},
   "outputs": [],
   "source": [
    "# TODO: Den Erklärenden Text verbessern und auslagern. \n",
    "\n",
    "# Angle doubling: x -> 2x mod 1\n",
    "# Beachte: Multiplikation mit 2 ist numerisch nicht sehr stabil, daher multiplizieren wir hier nur \"fast\" mit zwei. \n",
    "def angleDoubling(x):\n",
    "    return np.mod(1.9999999999 * x, 1.)\n",
    "\n",
    "# Eine leicht modifizierte Version der angle doubling map \n",
    "# bei der wir mit dem Parameter alpha das Minimum der Ableitung\n",
    "# modifizieren können (bspw. um die Abbildung nicht expansiv zu machen)\n",
    "\n",
    "def modifiedAngleDoubling(x, alpha = 0.9):\n",
    "    y = 1.9999999999 * x - alpha * 0.5 / np.pi * np.sin(2. * np.pi * x)\n",
    "    return np.mod(y , 1.)\n",
    "\n",
    "# Die folgende Transformation liefert uns ein Beispiel von \"Intermittenz\".\n",
    "# Dadurch, dass die Ableitung im Punkt 0 genau 1 ist, \n",
    "# schaut die Transformation lokal fast wie die Identität aus. \n",
    "# Startet man eine Trajektorie nahe an der 0 dauert es daher\n",
    "# sehr lange, bis man von dort entkommt. \n",
    "\n",
    "def intermittentMap(x):\n",
    "    return np.where(x <= 0.5, x/(1-x), 2*x - 1)\n",
    "\n",
    "# Leicht modifizierte Version,\n",
    "# die die Voraussetzungen nun ganz knapp erfüllt.  \n",
    "def slowBranch(x):\n",
    "    return np.where(x <= 0.5, x + 0.001 * x/(0.501-x), 2*x - 1)"
   ]
  },
  {
   "cell_type": "markdown",
   "metadata": {},
   "source": [
    "Nun wollen wir uns einmal die Funktionsgraphen dieser Transformationen anschauen. "
   ]
  },
  {
   "cell_type": "code",
   "execution_count": 4,
   "metadata": {},
   "outputs": [],
   "source": [
    "# TODO "
   ]
  },
  {
   "cell_type": "markdown",
   "metadata": {},
   "source": [
    "## 1.2 Propagation einer Punktwolke\n",
    "\n",
    "Nun wollen wir eine Funktion definieren, mit der wir die Propagation einer Punktwolke mittels einer gegebenen Transformation berechnen können. "
   ]
  },
  {
   "cell_type": "code",
   "execution_count": 5,
   "metadata": {},
   "outputs": [],
   "source": [
    "def compute_dynamic(start, num_steps, sys = modifiedAngleDoubling):\n",
    "    trajectories = np.zeros((num_steps, start.shape[0]))\n",
    "    trajectories[0] = start\n",
    "    for i in range(1,num_steps):\n",
    "        trajectories[i] = sys(trajectories[i-1])\n",
    "    return trajectories\n",
    "\n",
    "# TODO: Erklärungen/Kommentare zum Code. "
   ]
  },
  {
   "cell_type": "markdown",
   "metadata": {},
   "source": [
    "## 1.3 Observablen\n",
    "\n",
    "Um uns mit dem zentralen Grenzwertsatz zu beschäftigen müssen wir nun noch ein paar Observablen einführen, für die wir das Verhalten der (normalisierten) Partialsummen untersuchen wollen. "
   ]
  },
  {
   "cell_type": "code",
   "execution_count": 6,
   "metadata": {},
   "outputs": [],
   "source": [
    "def id_(x):\n",
    "    return x\n",
    "\n",
    "def cos(x):\n",
    "    return np.cos(2 * np.pi * x)\n",
    "\n",
    "def poly(x):\n",
    "    return x**4 - 1.258 * x**3\n",
    "\n",
    "def exp(x):\n",
    "    return np.exp(x)\n",
    "\n",
    "def ln(x):\n",
    "    epsilon = 0.2\n",
    "    return np.log(x + epsilon)\n",
    "\n",
    "# Geshifteter Absolutbetrag: \n",
    "def non_C1(x):\n",
    "    return np.abs(x - 0.5)\n",
    "\n",
    "# Indikatorfunktion: \n",
    "def non_C0(x):\n",
    "    epsilon = 0.025 \n",
    "    return np.where( np.mod(x, 0.1) < epsilon, 0., 1.)"
   ]
  },
  {
   "cell_type": "markdown",
   "metadata": {},
   "source": [
    "## 1.4 Die Partialsummen\n",
    "Nun können wir die Partialsummen für eine Transformation T, \n",
    "eine Observable f, und eine gegebene Menge an Startpunkten berechnen.  "
   ]
  },
  {
   "cell_type": "code",
   "execution_count": 7,
   "metadata": {},
   "outputs": [],
   "source": [
    "def compute_Sn(trajectories, obs, num_steps = None):\n",
    "    # ermittle num_steps und num_points\n",
    "    if num_steps == None: num_steps = trajectories.shape[0]\n",
    "    num_points = trajectories.shape[1]\n",
    "    \n",
    "    # Berechne Wert der Observable für jeden Punkt nach jedem Schritt \n",
    "    obs_values = obs(trajectories)\n",
    "    # Berechne Partialsummen über alle vorangegangenen Schritte für jeden Punkt\n",
    "    Sn = np.cumsum(obs_values, axis = 0)\n",
    "    \n",
    "    # Subtrahiere in jedem Schritt den Mittelwert der Partialsummen aller Punkte in diesem Schritt\n",
    "    mean = np.repeat( Sn.mean(axis = 1) , num_points )\n",
    "    mean = np.reshape( mean, (num_steps,num_points) )\n",
    "    Sn -= mean\n",
    "    \n",
    "    # Skaliere in jedem Schritt die Partialsummen für alle Punkte mit dem Faktor: 1/np.sqrt(n)\n",
    "    for n in range(num_steps):\n",
    "        Sn[n] = 1./np.sqrt(1+n) * Sn[n]\n",
    "\n",
    "    return Sn"
   ]
  },
  {
   "cell_type": "markdown",
   "metadata": {},
   "source": [
    "## 1.5 Code für die Animationen\n",
    "\n",
    "Nach dieser Vorarbeit können wir uns nun mit den eigentlichen Animationen beschäftigen. Die Hauptarbeit übernimmt hierbei die folgende Funktion. \n"
   ]
  },
  {
   "cell_type": "code",
   "execution_count": 8,
   "metadata": {},
   "outputs": [],
   "source": [
    "# Animation der Folge von Partialsummen\n",
    "# input: sys - Abbildung; start - Punktwolke: np.array shape [num_points]; num_steps - Anzahl Schritte; \n",
    "#        obs - list of observable(s); num_frames - Anzahl Frames für Animation\n",
    "# output: Animation - FuncAnimation Instanz\n",
    "def anim_limit_thm(sys, start, obs = [id_, cos, exp, ln], num_steps = 3000, num_frames = 100, \n",
    "                   num_bins = 51, sys_name = \"\", \n",
    "                   obs_names = [\"Identität\", \"Kosinus\", \"Exponential\", \"Logarithmus\"], \n",
    "                   title = \"Grenzwertsatz (für verschiedene Observablen)\"):\n",
    "    \n",
    "    # Berechnung der Gouezel Folgen\n",
    "    sequences = []\n",
    "    trajectories = compute_dynamic(start, num_steps, sys)\n",
    "    for f in obs:\n",
    "        sequences.append( compute_Sn(trajectories, f) )\n",
    "    \n",
    "    sequences = np.array(sequences)\n",
    "    \n",
    "    # Vorbereitung der Plots\n",
    "    num_plots = len(sequences)\n",
    "    num_rows = int( np.sqrt(num_plots) )\n",
    "    num_cols = int( np.ceil( num_plots / num_rows ) )\n",
    "    fig = plt.figure()\n",
    "    fig.subplots(nrows = num_rows, ncols = num_cols) \n",
    "    fig.suptitle(title)\n",
    "    fig.text(0.05, 0.02, sys_name, fontsize = \"large\")\n",
    "\n",
    "    # Festlegung der Frames die in der Animation gezeigt werden. Da die\n",
    "    # ersten Folgenglieder deutlich interessanter sind, wächst der Abstand \n",
    "    # zwischen den in der Animation gezeigten Folgengliedern exponentiell.\n",
    "    steps = np.unique( np.geomspace(1, num_steps, num_frames, \n",
    "                                    endpoint = True, dtype = int) ) - 1\n",
    "\n",
    "    # Erstellung der Animation. Die Argumente >fargs< werden an die update \n",
    "    # function >update_gouezel_anim< übergeben.\n",
    "    anim = animation.FuncAnimation(fig, update_limit_thm_anim, interval=250, \n",
    "                                   frames = steps.size, \n",
    "                                   fargs = (sequences, steps, num_bins, obs_names), \n",
    "                                   repeat = False)\n",
    "    return anim"
   ]
  },
  {
   "cell_type": "markdown",
   "metadata": {},
   "source": [
    "Als Hilfsmittel benötigen wir nun noch die folgende Funktion. "
   ]
  },
  {
   "cell_type": "code",
   "execution_count": 9,
   "metadata": {},
   "outputs": [],
   "source": [
    "# Update der Frames in der Gouezel Sequence Animation. Das erste Argument >i<\n",
    "# wird intern von FuncAnimation weitergegeben. Die letzteren drei Argumente\n",
    "# müssen bei der Initialisierung der FuncAnimation Instanz angegeben werden:\n",
    "# >sequences< ist eine Liste von Numpy Arrays, die jeweils die Gouezel Reihe\n",
    "# für eine spezielle Funktion enthalten, >steps< sind die Indizes der\n",
    "# Folgenglieder, die in der Animation geplotted werden, >labels< ist die \n",
    "# Liste der Titel der einzelen Plots in der Animation.\n",
    "def update_limit_thm_anim(i, sequences, steps, num_bins, labels):\n",
    "    \n",
    "    print(steps[i], end = \" \")\n",
    "\n",
    "    fig = plt.gcf()\n",
    "    \n",
    "    x_lim_left = abs( sequences[:,-1,:].min() )\n",
    "    x_lim_right = abs( sequences[:,-1,:].max() )\n",
    "    x_lim = max( x_lim_left, x_lim_right )\n",
    "    \n",
    "    y_lim = sequences.shape[2] * 4 / num_bins\n",
    "    \n",
    "    for j, ax in enumerate(fig.axes):\n",
    "        ax.clear()\n",
    "        \n",
    "        ax.set_xlim(left = -x_lim, right = x_lim)\n",
    "        ax.set_ylim(bottom = - 0.1 * y_lim, top = y_lim)\n",
    "        ax.set_xticks([-x_lim, -0.5 * x_lim, 0, 0.5 * x_lim, x_lim])\n",
    "        ax.set_xticklabels([\"\",\"\", \"\", \"\", \"\"])\n",
    "        ax.set_yticks([])\n",
    "        ax.set_title(labels[j])\n",
    "        \n",
    "        ax.hist( sequences[j][steps[i]], bins = num_bins)\n",
    "    \n",
    "    return fig"
   ]
  },
  {
   "cell_type": "markdown",
   "metadata": {},
   "source": [
    "## 1.6 Animationen\n",
    "Nachdem die harte Arbeit nun gemacht ist, können wir uns endlich\n",
    "dem schönen Teil widmen. "
   ]
  },
  {
   "cell_type": "code",
   "execution_count": null,
   "metadata": {},
   "outputs": [
    {
     "name": "stdout",
     "output_type": "stream",
     "text": [
      "0 0 1 2 3 4 5 6 7 8 10 11 12 14 16 18 20 22 25 28 32 35 40 44 50 56 62 69 78 87 97 108 121 135 151 169 188 210 235 262 292 326 "
     ]
    }
   ],
   "source": [
    "# Erstelle neue Animation\n",
    "num_points = 1000\n",
    "start = np.random.random(num_points)\n",
    "local_start = np.random.normal(0.5, 0.01, size = num_points) \n",
    "#anim = anim_limit_thm(doubling_sys, start, obs = [cos,ln,non_C1,non_C0], num_steps = 400, num_frames = 60,\n",
    "#                      sys_name = r\"$T = 2x \\ \\operatorname{mod} \\ 1$\",\n",
    "#                      obs_names = [\"Kosinus\", \"Logarithmus\", \"Betrag\", \"Rechteckfunktion\"],\n",
    "#                      title = \"Grenzwertsatz für gleichmäßig expansive Abbildungen auf dem Intervall\")\n",
    "#anim = anim_limit_thm(lambda x: modified_doubling_sys(x, alpha = 0.99),\n",
    "#                      start, obs = [id_,ln,cos,non_C0], num_steps = 3000, num_frames = 100,\n",
    "#                      sys_name = r\"$T(x) = [2x - \\frac{0.99}{2 \\pi} \\ \\sin(2 \\pi x)] \\ \\operatorname{mod} \\ 1$\", \n",
    "#                      obs_names = [\"Identität\", \"Logarithmus\", \"Kosinus\", \"Rechteckfunktion\"], \n",
    "#                      title = \"Grenzwertsatz für gleichmäßig expansive Abbildungen auf dem Intervall\")\n",
    "\n",
    "# use only 1000 points for 50000 steps!!!\n",
    "anim = anim_limit_thm(intermittentMap, start, obs = [id_,ln,cos,non_C0], num_steps = 50000, num_frames = 100,\n",
    "                      sys_name = r\"$T(x) = \\{ \\frac{x}{1-x} \\ if \\ x \\leq 0.5, \\ 2x - 1 \\ if \\ x > 0.5 \\ \\}$\",\n",
    "                      obs_names = [\"Identität\", \"Logarithmus\", \"Kosinus\", \"Rechteckfunktion\"],\n",
    "                      title = \"Grenzwertsatz für gleichmäßig expansive Abbildungen auf dem Intervall\")\n",
    "\n",
    "HTML(anim.to_jshtml())\n",
    "\n",
    "# TODO:\n",
    "# - Verhindern, dass er alle timesteps aufzählt. \n",
    "# - vll noch bisschen größer machen. "
   ]
  },
  {
   "cell_type": "code",
   "execution_count": null,
   "metadata": {},
   "outputs": [],
   "source": []
  },
  {
   "cell_type": "markdown",
   "metadata": {},
   "source": [
    "# 2. Donsker-type Theorem"
   ]
  },
  {
   "cell_type": "markdown",
   "metadata": {},
   "source": [
    "Weiterführender Aspekt: Donsker-type Theorem im Setting von deterministischen dynamischen Systemen. (Note to myself: Evtl. ähnliche Simulationen wie auf Blatt2, Stochastische Analysis mit rauszoomen etc: http://louistiao.me/posts/notebooks/embedding-matplotlib-animations-in-jupyter-notebooks/). "
   ]
  },
  {
   "cell_type": "code",
   "execution_count": null,
   "metadata": {},
   "outputs": [],
   "source": []
  },
  {
   "cell_type": "code",
   "execution_count": null,
   "metadata": {},
   "outputs": [],
   "source": [
    "#TODO"
   ]
  }
 ],
 "metadata": {
  "kernelspec": {
   "display_name": "Python 3",
   "language": "python",
   "name": "python3"
  },
  "language_info": {
   "codemirror_mode": {
    "name": "ipython",
    "version": 3
   },
   "file_extension": ".py",
   "mimetype": "text/x-python",
   "name": "python",
   "nbconvert_exporter": "python",
   "pygments_lexer": "ipython3",
   "version": "3.8.5"
  }
 },
 "nbformat": 4,
 "nbformat_minor": 4
}
