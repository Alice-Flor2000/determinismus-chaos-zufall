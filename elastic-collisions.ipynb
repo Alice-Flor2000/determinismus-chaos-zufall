{
 "cells": [
  {
   "cell_type": "markdown",
   "metadata": {},
   "source": [
    "# Brownsche Bewegung als Skalierungslimes mechanischer Systeme "
   ]
  },
  {
   "cell_type": "markdown",
   "metadata": {},
   "source": [
    "In diesem Projekt werden wir untersuchen, inwiefern Brownsche Bewegung im Sinne von Einstein und Smoluchovski aus vereinfachten mechanischen Modellen rigoros hergeleitet werden kann und worin die fundamentalen Schwierigkeiten hierbei liegen. Betrachtet werden also in diesem Projekt Teilchensysteme, die durch typischerweise elastische Kollisionen miteinander wechselwirken. Von grundlegender Bedeutung sind dabei üblicherweise Versionen des zentralen Grenzwertsatzes, die für das Auftauchen der Normalverteilungen verantwortlich sind."
   ]
  },
  {
   "cell_type": "markdown",
   "metadata": {},
   "source": [
    "## 1. Eindimensionaler Fall "
   ]
  },
  {
   "cell_type": "markdown",
   "metadata": {},
   "source": [
    "### 1.1. Theoretie \n",
    "TODO: Theory "
   ]
  },
  {
   "cell_type": "markdown",
   "metadata": {},
   "source": [
    "### 1.2 Simulationen \n",
    "Zunächst müssen wir die notwendigen Bibliotheken importieren. "
   ]
  },
  {
   "cell_type": "code",
   "execution_count": null,
   "metadata": {},
   "outputs": [],
   "source": [
    "%matplotlib inline \n",
    "\n",
    "import numpy as np\n",
    "import matplotlib.pyplot as plt\n",
    "from matplotlib import animation\n",
    "from matplotlib import rcParams\n"
   ]
  }
 ],
 "metadata": {
  "kernelspec": {
   "display_name": "Python 3",
   "language": "python",
   "name": "python3"
  },
  "language_info": {
   "codemirror_mode": {
    "name": "ipython",
    "version": 3
   },
   "file_extension": ".py",
   "mimetype": "text/x-python",
   "name": "python",
   "nbconvert_exporter": "python",
   "pygments_lexer": "ipython3",
   "version": "3.8.5"
  }
 },
 "nbformat": 4,
 "nbformat_minor": 4
}
